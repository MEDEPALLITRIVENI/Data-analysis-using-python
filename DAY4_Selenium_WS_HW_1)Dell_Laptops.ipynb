{
 "cells": [
  {
   "cell_type": "code",
   "execution_count": 2,
   "id": "84711897",
   "metadata": {},
   "outputs": [],
   "source": [
    "import selenium\n",
    "from selenium import webdriver\n",
    "from selenium.webdriver.chrome.options import Options\n",
    "from selenium.webdriver.common.by import By\n",
    "from selenium.webdriver.common.keys import Keys\n",
    "from webdriver_manager.chrome import ChromeDriverManager\n",
    "import pandas as pd"
   ]
  },
  {
   "cell_type": "code",
   "execution_count": 4,
   "id": "9b411b2f",
   "metadata": {},
   "outputs": [],
   "source": [
    "options=webdriver.ChromeOptions()   #Define options and set browser capabalities\n",
    "#options.add_argument('-----same-option')"
   ]
  },
  {
   "cell_type": "code",
   "execution_count": 5,
   "id": "96ed1373",
   "metadata": {},
   "outputs": [],
   "source": [
    "#create webdriver instance with options\n",
    "driver=webdriver.Chrome(options=options)"
   ]
  },
  {
   "cell_type": "code",
   "execution_count": 6,
   "id": "c550f4cb",
   "metadata": {},
   "outputs": [],
   "source": [
    "#Navigate to a website\n",
    "driver.get(\"https://www.amazon.in/\")"
   ]
  },
  {
   "cell_type": "code",
   "execution_count": 7,
   "id": "89b02882",
   "metadata": {},
   "outputs": [],
   "source": [
    "search = driver.find_element(By.XPATH, \".//input[@id='twotabsearchtextbox']\")"
   ]
  },
  {
   "cell_type": "code",
   "execution_count": 8,
   "id": "ed104af9",
   "metadata": {},
   "outputs": [],
   "source": [
    "search.send_keys(\"Top ten Dell Laptops\")"
   ]
  },
  {
   "cell_type": "code",
   "execution_count": 9,
   "id": "3b650605",
   "metadata": {},
   "outputs": [],
   "source": [
    "search.send_keys(Keys.ENTER)"
   ]
  },
  {
   "cell_type": "code",
   "execution_count": 10,
   "id": "502a5a28",
   "metadata": {},
   "outputs": [
    {
     "name": "stdout",
     "output_type": "stream",
     "text": [
      "['42,990', '74,990', '48,900', '35,990', '46,990', '20,990', '21,399', '19,499', '16,400', '279', '279', '15,314', '279', '42,990', '48,900', '59,990', '19,238', '81,990', '279', '279', '279', '279', '279', '41,594', '64,391']\n",
      "25\n"
     ]
    }
   ],
   "source": [
    "price=driver.find_elements(By.XPATH,\".//span[@class='a-price-whole']\")\n",
    "prices=[i.text for i in price]\n",
    "print(prices)\n",
    "print(len(prices))"
   ]
  },
  {
   "cell_type": "code",
   "execution_count": 11,
   "id": "c981aeba",
   "metadata": {},
   "outputs": [
    {
     "name": "stdout",
     "output_type": "stream",
     "text": [
      "['Sponsored\\nDell 15 Laptop, Intel 12th Gen Core i3-1215U Proc/8GB DDR4/512GB SSD/Intel UHD Graphic/15.6\" (38cm) FHD Display/Spill-Resistant Keyboard/Win11+MSO\\'21/15 Month McAfee/Black/Thin & Light 1.69kg', 'Sponsored\\nDell 14, Intel 12th Gen i5-1235U Laptop/8GB/512GB SSD/14.0\" (35.56cm) FHD TÃœV Rheinland Certified Comfortview to Reduce Harmful Blue Light Emission/Windows 11 + MSO\\'21/Black/15 Month McAfee,1.48kg', '(Renewed) Dell Latitude Air Laptop E7280 Intel Core i5 - 6300u Processor 6th Gen, 8 GB Ram & 128 GB SSD, 12.5 inches Ultra Slim & Feather Light 1KG Notebook Computer, Windows 10 Pro', '(Renewed) Dell Latitude Laptop E7480 Intel Core i5 Windows 10 Pro - 6200u Processor 6th Gen, 16 GB Ram & 256 GB SSD, 14.1 inches - Ultra Slim & Feather Light 1.37KG, Notebook Computer', '(Renewed) Dell Latitude Laptop E5480 Intel Core i5 7th Gen. - 7300u Processor, 8 GB Ram & 512 GB SSD, 14.1 inches Full HD Screen Notebook Computer Windows 10 Pro', 'Dell (Refurbished) Latitude E5470 14 Inches Laptop (Intel Core I5 6Th Gen/8Gb/256 Gb Sdd/Windows 10/Ms O', '5 Ace HD Iron Man T Laptop Skin, for 10 to17inch for Dell, Lenovo, Acer, HP, Sony,Apple,MacBook (Multi Color,Vinyl)', '5 Ace HD Iron Man T Laptop Skin, for 10 to17inch for Dell, Lenovo, Acer, HP, Sony,Apple,MacBook (Multi Color,Vinyl)', '(Renewed) Dell Intel 5th Gen Core i5 5300U 14-Inch (35.56 cms) Laptop (8 GB/256 GB SSD/Windows 10/Intel HD Graphics/Black/), Latitude E5450', '5 Ace HD Spider Man Laptop Skin, for 10 to17inch for Dell, Lenovo, Acer, HP, Sony,Apple,MacBook (Multi Color,Vinyl)', 'Sponsored\\nASUS Vivobook 15, Intel Core i3-1220P 12th Gen, 15.6\" (39.62 cm) FHD, Thin and Laptop (8GB/512GB SSD/Integrated Graphics/Windows 11/Office 2021/Alexa Built-in/FP Sensor/Blue/1.7 kg), X1502ZA-EJ381WS', 'Sponsored\\nASUS Vivobook 16X (2022), 16.0-inch (40.64 cms) FHD+ 16:10, AMD Ryzen 5 5600H, Thin and Laptop (8GB/512GB SSD/Integrated Graphics/Windows 11/Office 2021/Silver/1.80 kg), M1603QA-MB501WS', 'Dell Inspiron 5515 39.62 cm (15.6 inches) FHD AG 250nits Display Laptop (AMD Lucienne R5 5500U/8GB/512GB SSD/AMD Lucienne Graphic/Windows 10 + MSO/Backlit KB + FPR/Silver) D560459WIN9SE', '(Refurbished) Dell Latitude E5450 5th Gen Intel Core i5 HD Laptop (8 GB RAM/512 GB SSD/14\" (35.6 cm)/Windows 10/MS Office/WiFi/Bluetooth 4.0/Webcam/Integrated Graphics)', 'Dell G15-5530 Gaming Laptop, Intel Core i5-13450HX Processor, 16GB DDR5, 1TB, NVIDIA RTX 3050,6GB GDDR6, 15.6\" (39.62cm) FHD 120Hz 250 nits, Backlit KB Orange,Win 11 + MSO\\'21, Dark Shadow Gray, 2.65kg', '5 Ace HD Thanos Laptop Skin, for 10 to17inch for Dell, Lenovo, Acer, HP, Sony,Apple,MacBook (Multi Color,Vinyl)', '5 Ace HD Iron Man T Laptop Skin, for 10 to17inch for Dell, Lenovo, Acer, HP, Sony,Apple,MacBook (Multi Color,Vinyl)', '5 Ace HD Thor Copy Copy Laptop Skin, for 10 to17inch for Dell, Lenovo, Acer, HP, Sony,Apple,MacBook (Multi Color,Vinyl)', '5 Ace HD Groot k Laptop Skin, for 10 to17inch for Dell, Lenovo, Acer, HP, Sony,Apple,MacBook (Multi Color,Vinyl)', '5 Ace HD Spider Man ps ps Laptop Skin, for 10 to17inch for Dell, Lenovo, Acer, HP, Sony,Apple,MacBook (Multi Color,Vinyl)', 'Sponsored\\n(Refurbished) Lenovo ThinkBook 13s Gen 2 (13.3\" / i5-1135 G7 / 16 GB RAM / 512 GB SSD/Windows 10 Pro /Backlit Keyboard),20V9A04EIH', 'Sponsored\\nHP Pavilion Aero AMD Ryzen 5 7535U 13.3 inch(33.8cm) WUXGA IPS, Micro-Edge Laptop (16GB RAM/512GB SSD/AMD Radeon Graphics/Win 11/MSO/Backlit Keyboard/B&O/FPR/Alexa/Warm Gold/970 Grams) 13-be2055AU']\n",
      "22\n"
     ]
    }
   ],
   "source": [
    "specification=driver.find_elements(By.XPATH,\".//div[@class='a-section a-spacing-none puis-padding-right-small s-title-instructions-style']\")\n",
    "specifications=[i.text for i in specification]\n",
    "print(specifications)\n",
    "print(len(specifications))"
   ]
  },
  {
   "cell_type": "code",
   "execution_count": 12,
   "id": "dc65178c",
   "metadata": {},
   "outputs": [
    {
     "name": "stdout",
     "output_type": "stream",
     "text": [
      "['', 'FREE delivery', 'Or fastest delivery', '', 'FREE delivery', 'Or fastest delivery', 'FREE delivery', 'FREE delivery', 'FREE delivery', 'FREE delivery', 'FREE delivery', 'on ₹499 of items fulfilled by Amazon', 'Or fastest delivery', 'FREE delivery', 'on ₹499 of items fulfilled by Amazon', 'Or fastest delivery', 'FREE delivery', 'Or fastest delivery', 'FREE delivery', 'on ₹499 of items fulfilled by Amazon', 'Or fastest delivery', '', 'FREE delivery', 'Or fastest delivery', '', 'FREE delivery', 'Or fastest delivery', 'FREE delivery', 'FREE delivery', 'Or fastest delivery', 'FREE delivery', 'Or fastest delivery', 'FREE delivery', 'on ₹499 of items fulfilled by Amazon', 'Or fastest delivery', 'FREE delivery', 'on ₹499 of items fulfilled by Amazon', 'Or fastest delivery', 'FREE delivery', 'on ₹499 of items fulfilled by Amazon', 'Or fastest delivery', 'FREE delivery', 'on ₹499 of items fulfilled by Amazon', 'Or fastest delivery', 'FREE delivery', 'on ₹499 of items fulfilled by Amazon', 'Or fastest delivery', '', 'FREE delivery', '', 'FREE delivery', 'Or fastest delivery', 'Connect. Create. Collaborate with ASUS Laptops', 'Make your everyday easier', '']\n",
      "55\n"
     ]
    }
   ],
   "source": [
    "delivery=driver.find_elements(By.XPATH,\".//span[@class='a-color-base']\")\n",
    "deliverytype=[i.text for i in delivery]\n",
    "print(deliverytype)\n",
    "print(len(deliverytype))"
   ]
  },
  {
   "cell_type": "code",
   "execution_count": 16,
   "id": "1094ada0",
   "metadata": {},
   "outputs": [
    {
     "data": {
      "text/html": [
       "<div>\n",
       "<style scoped>\n",
       "    .dataframe tbody tr th:only-of-type {\n",
       "        vertical-align: middle;\n",
       "    }\n",
       "\n",
       "    .dataframe tbody tr th {\n",
       "        vertical-align: top;\n",
       "    }\n",
       "\n",
       "    .dataframe thead th {\n",
       "        text-align: right;\n",
       "    }\n",
       "</style>\n",
       "<table border=\"1\" class=\"dataframe\">\n",
       "  <thead>\n",
       "    <tr style=\"text-align: right;\">\n",
       "      <th></th>\n",
       "      <th>prices</th>\n",
       "      <th>delivery</th>\n",
       "      <th>specifications</th>\n",
       "      <th>specification</th>\n",
       "      <th>deliverytype</th>\n",
       "    </tr>\n",
       "  </thead>\n",
       "  <tbody>\n",
       "    <tr>\n",
       "      <th>0</th>\n",
       "      <td>42,990</td>\n",
       "      <td>NaN</td>\n",
       "      <td>NaN</td>\n",
       "      <td>Sponsored\\nDell 15 Laptop, Intel 12th Gen Core...</td>\n",
       "      <td></td>\n",
       "    </tr>\n",
       "    <tr>\n",
       "      <th>1</th>\n",
       "      <td>74,990</td>\n",
       "      <td>NaN</td>\n",
       "      <td>NaN</td>\n",
       "      <td>Sponsored\\nDell 14, Intel 12th Gen i5-1235U La...</td>\n",
       "      <td>FREE delivery</td>\n",
       "    </tr>\n",
       "    <tr>\n",
       "      <th>2</th>\n",
       "      <td>48,900</td>\n",
       "      <td>NaN</td>\n",
       "      <td>NaN</td>\n",
       "      <td>(Renewed) Dell Latitude Air Laptop E7280 Intel...</td>\n",
       "      <td>Or fastest delivery</td>\n",
       "    </tr>\n",
       "    <tr>\n",
       "      <th>3</th>\n",
       "      <td>35,990</td>\n",
       "      <td>NaN</td>\n",
       "      <td>NaN</td>\n",
       "      <td>(Renewed) Dell Latitude Laptop E7480 Intel Cor...</td>\n",
       "      <td></td>\n",
       "    </tr>\n",
       "    <tr>\n",
       "      <th>4</th>\n",
       "      <td>46,990</td>\n",
       "      <td>NaN</td>\n",
       "      <td>NaN</td>\n",
       "      <td>(Renewed) Dell Latitude Laptop E5480 Intel Cor...</td>\n",
       "      <td>FREE delivery</td>\n",
       "    </tr>\n",
       "    <tr>\n",
       "      <th>5</th>\n",
       "      <td>20,990</td>\n",
       "      <td>NaN</td>\n",
       "      <td>NaN</td>\n",
       "      <td>Dell (Refurbished) Latitude E5470 14 Inches La...</td>\n",
       "      <td>Or fastest delivery</td>\n",
       "    </tr>\n",
       "    <tr>\n",
       "      <th>6</th>\n",
       "      <td>21,399</td>\n",
       "      <td>NaN</td>\n",
       "      <td>NaN</td>\n",
       "      <td>5 Ace HD Iron Man T Laptop Skin, for 10 to17in...</td>\n",
       "      <td>FREE delivery</td>\n",
       "    </tr>\n",
       "    <tr>\n",
       "      <th>7</th>\n",
       "      <td>19,499</td>\n",
       "      <td>NaN</td>\n",
       "      <td>NaN</td>\n",
       "      <td>5 Ace HD Iron Man T Laptop Skin, for 10 to17in...</td>\n",
       "      <td>FREE delivery</td>\n",
       "    </tr>\n",
       "    <tr>\n",
       "      <th>8</th>\n",
       "      <td>16,400</td>\n",
       "      <td>NaN</td>\n",
       "      <td>NaN</td>\n",
       "      <td>(Renewed) Dell Intel 5th Gen Core i5 5300U 14-...</td>\n",
       "      <td>FREE delivery</td>\n",
       "    </tr>\n",
       "    <tr>\n",
       "      <th>9</th>\n",
       "      <td>279</td>\n",
       "      <td>NaN</td>\n",
       "      <td>NaN</td>\n",
       "      <td>5 Ace HD Spider Man Laptop Skin, for 10 to17in...</td>\n",
       "      <td>FREE delivery</td>\n",
       "    </tr>\n",
       "  </tbody>\n",
       "</table>\n",
       "</div>"
      ],
      "text/plain": [
       "   prices delivery specifications  \\\n",
       "0  42,990      NaN            NaN   \n",
       "1  74,990      NaN            NaN   \n",
       "2  48,900      NaN            NaN   \n",
       "3  35,990      NaN            NaN   \n",
       "4  46,990      NaN            NaN   \n",
       "5  20,990      NaN            NaN   \n",
       "6  21,399      NaN            NaN   \n",
       "7  19,499      NaN            NaN   \n",
       "8  16,400      NaN            NaN   \n",
       "9     279      NaN            NaN   \n",
       "\n",
       "                                       specification         deliverytype  \n",
       "0  Sponsored\\nDell 15 Laptop, Intel 12th Gen Core...                       \n",
       "1  Sponsored\\nDell 14, Intel 12th Gen i5-1235U La...        FREE delivery  \n",
       "2  (Renewed) Dell Latitude Air Laptop E7280 Intel...  Or fastest delivery  \n",
       "3  (Renewed) Dell Latitude Laptop E7480 Intel Cor...                       \n",
       "4  (Renewed) Dell Latitude Laptop E5480 Intel Cor...        FREE delivery  \n",
       "5  Dell (Refurbished) Latitude E5470 14 Inches La...  Or fastest delivery  \n",
       "6  5 Ace HD Iron Man T Laptop Skin, for 10 to17in...        FREE delivery  \n",
       "7  5 Ace HD Iron Man T Laptop Skin, for 10 to17in...        FREE delivery  \n",
       "8  (Renewed) Dell Intel 5th Gen Core i5 5300U 14-...        FREE delivery  \n",
       "9  5 Ace HD Spider Man Laptop Skin, for 10 to17in...        FREE delivery  "
      ]
     },
     "execution_count": 16,
     "metadata": {},
     "output_type": "execute_result"
    }
   ],
   "source": [
    "dell_laptops=pd.DataFrame(columns=[\"prices\",\"delivery\",\"specifications\"])\n",
    "dell_laptops['specification']=specifications[0:10]\n",
    "dell_laptops['deliverytype']=deliverytype[0:10]\n",
    "dell_laptops['prices']=prices[0:10]\n",
    "dell_laptops"
   ]
  },
  {
   "cell_type": "code",
   "execution_count": 17,
   "id": "91fdf49d",
   "metadata": {},
   "outputs": [],
   "source": [
    "dell_laptops.to_csv('dell_laptops.csv')"
   ]
  },
  {
   "cell_type": "code",
   "execution_count": null,
   "id": "c9059f7d",
   "metadata": {},
   "outputs": [],
   "source": []
  }
 ],
 "metadata": {
  "kernelspec": {
   "display_name": "Python 3 (ipykernel)",
   "language": "python",
   "name": "python3"
  },
  "language_info": {
   "codemirror_mode": {
    "name": "ipython",
    "version": 3
   },
   "file_extension": ".py",
   "mimetype": "text/x-python",
   "name": "python",
   "nbconvert_exporter": "python",
   "pygments_lexer": "ipython3",
   "version": "3.11.5"
  }
 },
 "nbformat": 4,
 "nbformat_minor": 5
}
